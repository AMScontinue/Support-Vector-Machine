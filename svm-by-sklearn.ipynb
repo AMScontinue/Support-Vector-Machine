{
 "cells": [
  {
   "cell_type": "code",
   "execution_count": 1,
   "id": "95c91ab2",
   "metadata": {
    "_cell_guid": "b1076dfc-b9ad-4769-8c92-a6c4dae69d19",
    "_uuid": "8f2839f25d086af736a60e9eeb907d3b93b6e0e5",
    "execution": {
     "iopub.execute_input": "2022-12-22T16:11:30.846454Z",
     "iopub.status.busy": "2022-12-22T16:11:30.845903Z",
     "iopub.status.idle": "2022-12-22T16:11:31.913838Z",
     "shell.execute_reply": "2022-12-22T16:11:31.912639Z"
    },
    "papermill": {
     "duration": 1.076525,
     "end_time": "2022-12-22T16:11:31.918018",
     "exception": false,
     "start_time": "2022-12-22T16:11:30.841493",
     "status": "completed"
    },
    "tags": []
   },
   "outputs": [
    {
     "name": "stdout",
     "output_type": "stream",
     "text": [
      "Took 0.020890 second\n",
      "Accuracy - : 0.880\n"
     ]
    },
    {
     "name": "stderr",
     "output_type": "stream",
     "text": [
      "/opt/conda/lib/python3.7/site-packages/sklearn/utils/validation.py:993: DataConversionWarning: A column-vector y was passed when a 1d array was expected. Please change the shape of y to (n_samples, ), for example using ravel().\n",
      "  y = column_or_1d(y, warn=True)\n"
     ]
    }
   ],
   "source": [
    "import numpy as np \n",
    "import pandas as pd \n",
    "import time\n",
    "\n",
    "\n",
    "from sklearn.svm import SVC\n",
    "\n",
    "dataX_train = pd.read_csv('/kaggle/input/lab1temp/X_train.csv')\n",
    "dataY_train = pd.read_csv('/kaggle/input/lab1temp/Y_train.csv')\n",
    "\n",
    "\n",
    "y = dataY_train.iloc[:,[0]]\n",
    "X = dataX_train.iloc[:,:]\n",
    "\n",
    "start_time = time.time() \n",
    "\n",
    "SVM_Model = SVC(gamma='auto')\n",
    "SVM_Model.fit(X,y)\n",
    "\n",
    "end_time = time.time() \n",
    "print('Took %f second' % (end_time - start_time)) \n",
    "\n",
    "dataX_test = pd.read_csv('/kaggle/input/lab1temp/X_test.csv')\n",
    "dataY_test = pd.read_csv('/kaggle/input/lab1temp/Y_test.csv')\n",
    "\n",
    "\n",
    "y1 = dataY_test.iloc[:,[0]]\n",
    "X1 = dataX_test.iloc[:,:]\n",
    "\n",
    "\n",
    "print (f'Accuracy - : {SVM_Model.score(X1,y1):.3f}')"
   ]
  }
 ],
 "metadata": {
  "kernelspec": {
   "display_name": "Python 3",
   "language": "python",
   "name": "python3"
  },
  "language_info": {
   "codemirror_mode": {
    "name": "ipython",
    "version": 3
   },
   "file_extension": ".py",
   "mimetype": "text/x-python",
   "name": "python",
   "nbconvert_exporter": "python",
   "pygments_lexer": "ipython3",
   "version": "3.7.12"
  },
  "papermill": {
   "default_parameters": {},
   "duration": 10.019017,
   "end_time": "2022-12-22T16:11:32.641459",
   "environment_variables": {},
   "exception": null,
   "input_path": "__notebook__.ipynb",
   "output_path": "__notebook__.ipynb",
   "parameters": {},
   "start_time": "2022-12-22T16:11:22.622442",
   "version": "2.3.4"
  }
 },
 "nbformat": 4,
 "nbformat_minor": 5
}
